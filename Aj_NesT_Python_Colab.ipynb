{
  "nbformat": 4,
  "nbformat_minor": 0,
  "metadata": {
    "colab": {
      "name": "Aj. NesT Python Colab",
      "provenance": []
    },
    "kernelspec": {
      "name": "python3",
      "display_name": "Python 3"
    }
  },
  "cells": [
    {
      "cell_type": "markdown",
      "metadata": {
        "id": "X0k8kTUaXcHr"
      },
      "source": [
        "![alt text](https://upload.wikimedia.org/wikipedia/commons/c/c3/Python-logo-notext.svg)"
      ]
    },
    {
      "cell_type": "markdown",
      "metadata": {
        "id": "SqbU4LFaX95T"
      },
      "source": [
        "Todsapon Banklongsi\n",
        "\n",
        "Facebook: [Aj. NesT the Series](https://www.facebook.com/ajnesttheseries)\n",
        "\n",
        "YouTube: [Aj. NesT the Series](https://www.youtube.com/ajnesttheseries)"
      ]
    },
    {
      "cell_type": "markdown",
      "metadata": {
        "id": "7DwkfULnYuGK"
      },
      "source": [
        "\n",
        "\n",
        "```\n",
        "# This is formatted as code\n",
        "```\n",
        "\n",
        "## Python Programming with Colaboratory"
      ]
    },
    {
      "cell_type": "markdown",
      "metadata": {
        "id": "nOHaG05qY8bJ"
      },
      "source": [
        "Python Syntax\n",
        "\n",
        "Ex1 Python Line Structure"
      ]
    },
    {
      "cell_type": "code",
      "metadata": {
        "id": "8nwOKn5PZCo5",
        "colab": {
          "base_uri": "https://localhost:8080/",
          "height": 34
        },
        "outputId": "1906b1a8-e898-4854-9946-9867244019e0"
      },
      "source": [
        "x = -2\n",
        "if x>0:\n",
        "  print(\"I love Python Programming\")\n",
        "else:\n",
        "  print(\"I love Java Programming\")"
      ],
      "execution_count": null,
      "outputs": [
        {
          "output_type": "stream",
          "text": [
            "I love Java Programming\n"
          ],
          "name": "stdout"
        }
      ]
    },
    {
      "cell_type": "markdown",
      "metadata": {
        "id": "SC2CQYhVa_sn"
      },
      "source": [
        "Ex2 Comments in Python"
      ]
    },
    {
      "cell_type": "code",
      "metadata": {
        "id": "Rbg_EqCQbEtG",
        "colab": {
          "base_uri": "https://localhost:8080/",
          "height": 34
        },
        "outputId": "b7545d7a-cdac-478b-c2a4-1987789a1cfb"
      },
      "source": [
        "#x = -2 คอมเมนต์\n",
        "x = 6\n",
        "if x>0:\n",
        "  #print(\"I love Python Programming\")\n",
        "  print(\"ฉันรักภาษาไพธอน\")\n",
        "else:\n",
        "  \"\"\"print(\"I love Java Programming\")\n",
        "  print(\"I love C Programming\")\"\"\"\n",
        "  print(\"I love C#.NET Programming\") "
      ],
      "execution_count": null,
      "outputs": [
        {
          "output_type": "stream",
          "text": [
            "ฉันรักภาษาไพธอน\n"
          ],
          "name": "stdout"
        }
      ]
    },
    {
      "cell_type": "markdown",
      "metadata": {
        "id": "tibTyla4dHM7"
      },
      "source": [
        "Ex3 Joining Two Lines"
      ]
    },
    {
      "cell_type": "code",
      "metadata": {
        "id": "UkmYc2LPdQ_h",
        "colab": {
          "base_uri": "https://localhost:8080/",
          "height": 34
        },
        "outputId": "a38608b2-8731-400c-e862-329229a1398e"
      },
      "source": [
        "a = 0\n",
        "b = 1\n",
        "c = 2\n",
        "d = 3\n",
        "e = 4\n",
        "f = 5\n",
        "\n",
        "if a==0 and b>0 \\\n",
        "   and c>1 and d>2 \\\n",
        "   and e>3 and f>4:\n",
        "  print(\"Joining Two Lines --> I love Python Programming\")"
      ],
      "execution_count": null,
      "outputs": [
        {
          "output_type": "stream",
          "text": [
            "Joining Two Lines --> I love Python Programming\n"
          ],
          "name": "stdout"
        }
      ]
    },
    {
      "cell_type": "markdown",
      "metadata": {
        "id": "nA0mcrDPe5k_"
      },
      "source": [
        "Ex4 Indentation"
      ]
    },
    {
      "cell_type": "code",
      "metadata": {
        "id": "U0yX-bJie_Vu",
        "colab": {
          "base_uri": "https://localhost:8080/",
          "height": 51
        },
        "outputId": "a9b12fc8-e541-4c95-8aea-707f873add11"
      },
      "source": [
        "x=2\n",
        "if x>0:\n",
        "  print(\"Space bar in Python\")\n",
        "else:\n",
        "  print(\"Smile :D\")\n",
        "print(\"A single space indentation\")"
      ],
      "execution_count": null,
      "outputs": [
        {
          "output_type": "stream",
          "text": [
            "Space bar in Python\n",
            "A single space indentation\n"
          ],
          "name": "stdout"
        }
      ]
    },
    {
      "cell_type": "markdown",
      "metadata": {
        "id": "vieVwFajgziQ"
      },
      "source": [
        "### Python Variable\n",
        "Ex5 Python Assignment Statements"
      ]
    },
    {
      "cell_type": "code",
      "metadata": {
        "id": "yiu7xaHFheFz",
        "colab": {
          "base_uri": "https://localhost:8080/",
          "height": 68
        },
        "outputId": "80b54c2f-c231-411e-9caf-bfbbd19fa93d"
      },
      "source": [
        "Name = \"Python Programming\" #String\n",
        "Qty = 9 #Integer\n",
        "Value = 9000.89 #Floating Point\n",
        "print(Name)\n",
        "print(Qty)\n",
        "print(Value)"
      ],
      "execution_count": null,
      "outputs": [
        {
          "output_type": "stream",
          "text": [
            "Python Programming\n",
            "9\n",
            "9000.89\n"
          ],
          "name": "stdout"
        }
      ]
    },
    {
      "cell_type": "markdown",
      "metadata": {
        "id": "19alsl9OiYqY"
      },
      "source": [
        "Ex6 Multiple Assignment"
      ]
    },
    {
      "cell_type": "code",
      "metadata": {
        "id": "FIv_yrhZif8L",
        "colab": {
          "base_uri": "https://localhost:8080/",
          "height": 68
        },
        "outputId": "260c4253-2a06-434c-f9bf-aa98d996249c"
      },
      "source": [
        "x = y = z =9\n",
        "a = 6 \n",
        "b = 3 \n",
        "c = 99\n",
        "'''print(x)\n",
        "print(y)\n",
        "print(z)'''\n",
        "print(x,y,z)\n",
        "print(a)\n",
        "print(b,c)"
      ],
      "execution_count": null,
      "outputs": [
        {
          "output_type": "stream",
          "text": [
            "9 9 9\n",
            "6\n",
            "3 99\n"
          ],
          "name": "stdout"
        }
      ]
    },
    {
      "cell_type": "markdown",
      "metadata": {
        "id": "91aGktV7jfKY"
      },
      "source": [
        "Ex7 Multiple Assignment 2"
      ]
    },
    {
      "cell_type": "code",
      "metadata": {
        "id": "kNMrly3ZjkJp",
        "colab": {
          "base_uri": "https://localhost:8080/",
          "height": 68
        },
        "outputId": "81ef5801-1c26-4224-a54c-8b9141f9da8f"
      },
      "source": [
        "x = y = z =9\n",
        "a, b, c = 6, 3, \"I love Python Programming\"\n",
        "'''print(x)\n",
        "print(y)\n",
        "print(z)'''\n",
        "print(x,y,z)\n",
        "print(a, b)\n",
        "print(c)"
      ],
      "execution_count": null,
      "outputs": [
        {
          "output_type": "stream",
          "text": [
            "9 9 9\n",
            "6 3\n",
            "I love Python Programming\n"
          ],
          "name": "stdout"
        }
      ]
    },
    {
      "cell_type": "markdown",
      "metadata": {
        "id": "zMS2ff6lkXws"
      },
      "source": [
        "Ex8 Swap Variables"
      ]
    },
    {
      "cell_type": "code",
      "metadata": {
        "id": "pf3C_UnWke54",
        "colab": {
          "base_uri": "https://localhost:8080/",
          "height": 85
        },
        "outputId": "b1df73e6-d1bd-4923-f9dc-9dc7567caf23"
      },
      "source": [
        "x = 80\n",
        "y = 90\n",
        "print(x)\n",
        "print(y)\n",
        "x, y = y, x\n",
        "print(x)\n",
        "print(y)"
      ],
      "execution_count": null,
      "outputs": [
        {
          "output_type": "stream",
          "text": [
            "80\n",
            "90\n",
            "90\n",
            "80\n"
          ],
          "name": "stdout"
        }
      ]
    },
    {
      "cell_type": "markdown",
      "metadata": {
        "id": "SmMMzDPnk8un"
      },
      "source": [
        "Ex9 Local and Global Variables in Python (1)"
      ]
    },
    {
      "cell_type": "code",
      "metadata": {
        "id": "sF7bW7CjlLz0",
        "colab": {
          "base_uri": "https://localhost:8080/",
          "height": 51
        },
        "outputId": "e571331d-a427-416d-b97b-c5ae13f146c1"
      },
      "source": [
        "var1 = \"Python\"\n",
        "def func1():\n",
        "    var1 = \"Java\"\n",
        "    print(\"In side func1() var1 = \", var1)\n",
        "\n",
        "def func2():\n",
        "    print(\"In side func2() var1 = \", var1)\n",
        "func1()\n",
        "func2()"
      ],
      "execution_count": null,
      "outputs": [
        {
          "output_type": "stream",
          "text": [
            "In side func1() var1 =  Java\n",
            "In side func2() var1 =  Python\n"
          ],
          "name": "stdout"
        }
      ]
    },
    {
      "cell_type": "markdown",
      "metadata": {
        "id": "1JuEvgXvmr6A"
      },
      "source": [
        "Ex10 Local and Global Variables in Python (2)"
      ]
    },
    {
      "cell_type": "code",
      "metadata": {
        "id": "3LQZhgjlnThr",
        "colab": {
          "base_uri": "https://localhost:8080/",
          "height": 51
        },
        "outputId": "f3be02e3-96fd-4a75-9720-7878c88c40ee"
      },
      "source": [
        "def func1():\n",
        "    global var1\n",
        "    var1 = \"Java\"\n",
        "    print(\"In side func1() var1 = \", var1)\n",
        "\n",
        "def func2():\n",
        "    print(\"In side func2() var1 = \", var1)\n",
        "func1()\n",
        "func2()"
      ],
      "execution_count": null,
      "outputs": [
        {
          "output_type": "stream",
          "text": [
            "In side func1() var1 =  Java\n",
            "In side func2() var1 =  Java\n"
          ],
          "name": "stdout"
        }
      ]
    },
    {
      "cell_type": "markdown",
      "metadata": {
        "id": "IAFDGLb-olWo"
      },
      "source": [
        "### Operators and Operands\n",
        "Ex26 Python Arithmetic Operators"
      ]
    },
    {
      "cell_type": "code",
      "metadata": {
        "id": "_vloKJJ7pTzH",
        "colab": {
          "base_uri": "https://localhost:8080/",
          "height": 136
        },
        "outputId": "09242b07-f133-420c-b374-702ecdf8d35b"
      },
      "source": [
        "x = 16\n",
        "y = 9\n",
        "z_add = x+y\n",
        "print(\"x+y = \", z_add)\n",
        "z_sub = x-y\n",
        "print(\"x-y = \", z_sub)\n",
        "z_mul = x*y\n",
        "print(\"x*y = \", z_mul)\n",
        "z_div = x/y\n",
        "print(\"x/y = \", z_div)\n",
        "z_mod = x%y\n",
        "print(\"x%y = \", z_mod)\n",
        "z_power = x**y\n",
        "print(\"x**y = \", z_power)\n",
        "z_floor = x//y\n",
        "print(\"x//y = \", z_floor)"
      ],
      "execution_count": null,
      "outputs": [
        {
          "output_type": "stream",
          "text": [
            "x+y =  25\n",
            "x-y =  7\n",
            "x*y =  144\n",
            "x/y =  1.7777777777777777\n",
            "x%y =  7\n",
            "x**y =  68719476736\n",
            "x//y =  1\n"
          ],
          "name": "stdout"
        }
      ]
    },
    {
      "cell_type": "markdown",
      "metadata": {
        "id": "PCSMzh97sQAf"
      },
      "source": [
        "Ex27 Python Comparison Operators"
      ]
    },
    {
      "cell_type": "code",
      "metadata": {
        "id": "nPhFXn5HsWKl",
        "colab": {
          "base_uri": "https://localhost:8080/",
          "height": 119
        },
        "outputId": "02b66a56-2469-4859-c917-deb4b490acce"
      },
      "source": [
        "x = 13\n",
        "y = 16\n",
        "z_equal = x==y\n",
        "print(z_equal)\n",
        "z_notequal = x!=y\n",
        "print(z_notequal)\n",
        "z_greater = x>y\n",
        "print(z_greater)\n",
        "z_less = x<y\n",
        "print(z_less)\n",
        "z_greatereq = x>=y\n",
        "print(z_greatereq)\n",
        "z_lesseq = x<=y\n",
        "print(z_lesseq)"
      ],
      "execution_count": null,
      "outputs": [
        {
          "output_type": "stream",
          "text": [
            "False\n",
            "True\n",
            "False\n",
            "True\n",
            "False\n",
            "True\n"
          ],
          "name": "stdout"
        }
      ]
    },
    {
      "cell_type": "markdown",
      "metadata": {
        "id": "HEgjWGIJuSqs"
      },
      "source": [
        "Ex28 Python Logical Operators"
      ]
    },
    {
      "cell_type": "code",
      "metadata": {
        "id": "fGiJUbc-ubu_",
        "colab": {
          "base_uri": "https://localhost:8080/",
          "height": 68
        },
        "outputId": "cd7123f8-7615-4d34-c18f-1624b43f43c4"
      },
      "source": [
        "x = 9\n",
        "y = 15\n",
        "z_and = (x>10 and y>10)\n",
        "print(z_and)\n",
        "z_or = (x>10 or y>15)\n",
        "print(z_or)\n",
        "z_not = not(x>10 and y>10)\n",
        "print(z_not)"
      ],
      "execution_count": null,
      "outputs": [
        {
          "output_type": "stream",
          "text": [
            "False\n",
            "False\n",
            "True\n"
          ],
          "name": "stdout"
        }
      ]
    },
    {
      "cell_type": "markdown",
      "metadata": {
        "id": "9fAsDtNpvygk"
      },
      "source": [
        "Ex29 Python Assignment Operators"
      ]
    },
    {
      "cell_type": "code",
      "metadata": {
        "id": "mzk1p5dJv4u5",
        "colab": {
          "base_uri": "https://localhost:8080/",
          "height": 136
        },
        "outputId": "50223800-19ed-4312-df9d-91418579d24f"
      },
      "source": [
        "x = 16\n",
        "y = 9\n",
        "x+=y #x = x + y\n",
        "print(x)\n",
        "x-=y #x = x - y\n",
        "print(x)\n",
        "x*=y #x = x * y\n",
        "print(x)\n",
        "x/=y #x = x / y\n",
        "print(x)\n",
        "x%=y #x = x % y\n",
        "print(x)\n",
        "x**=y #x = x^y\n",
        "print(x)\n",
        "x//=y #x = x//y\n",
        "print(x)"
      ],
      "execution_count": null,
      "outputs": [
        {
          "output_type": "stream",
          "text": [
            "25\n",
            "16\n",
            "144\n",
            "16.0\n",
            "7.0\n",
            "40353607.0\n",
            "4483734.0\n"
          ],
          "name": "stdout"
        }
      ]
    },
    {
      "cell_type": "markdown",
      "metadata": {
        "id": "PVO5fpRZT7pQ"
      },
      "source": [
        "### Python if elif else\n",
        "Ex30 if...else Statement"
      ]
    },
    {
      "cell_type": "code",
      "metadata": {
        "id": "BraTMm8iUc1e",
        "colab": {
          "base_uri": "https://localhost:8080/",
          "height": 35
        },
        "outputId": "3275630f-f694-45f9-a7d1-fcfc4acd8083"
      },
      "source": [
        "a = 30\n",
        "if(a>20):\n",
        "  print(\"Value of a is greater than 20\")\n",
        "else:\n",
        "  print(\"Value = 20 หรือ Value < 20\")"
      ],
      "execution_count": null,
      "outputs": [
        {
          "output_type": "stream",
          "text": [
            "Value of a is greater than 20\n"
          ],
          "name": "stdout"
        }
      ]
    },
    {
      "cell_type": "markdown",
      "metadata": {
        "id": "-a526ThKVdoi"
      },
      "source": [
        "Ex31 if .. elif .. else Statement"
      ]
    },
    {
      "cell_type": "code",
      "metadata": {
        "id": "B1w0w3ljVm3z",
        "colab": {
          "base_uri": "https://localhost:8080/",
          "height": 35
        },
        "outputId": "a70357d8-b99e-4e04-803f-b87c8d8b7445"
      },
      "source": [
        "var1 = {\"Class\":\"Python\", \"Section\":'A', \"Roll_No\":16}\n",
        "if(type(var1) == int):\n",
        "  print(\"Integer\")\n",
        "elif(type(var1) == float):\n",
        "  print(\"Float\")\n",
        "elif(type(var1) == complex):\n",
        "  print(\"Complex\")\n",
        "elif(type(var1) == bool):\n",
        "  print(\"Boolean\")\n",
        "elif(type(var1) == str):\n",
        "  print(\"String\")\n",
        "elif(type(var1) == tuple):\n",
        "  print(\"Tuple\")\n",
        "elif(type(var1) == dict):\n",
        "  print(\"Dictionaries\")\n",
        "elif(type(var1) == list):\n",
        "  print(\"List\")\n",
        "else:\n",
        "  print(\"Unknown\")  "
      ],
      "execution_count": null,
      "outputs": [
        {
          "output_type": "stream",
          "text": [
            "Dictionaries\n"
          ],
          "name": "stdout"
        }
      ]
    },
    {
      "cell_type": "markdown",
      "metadata": {
        "id": "dr7ToCiBZfNP"
      },
      "source": [
        "Ex32 Nested if .. else Statement"
      ]
    },
    {
      "cell_type": "code",
      "metadata": {
        "id": "fMxQfctaZoNL",
        "colab": {
          "base_uri": "https://localhost:8080/",
          "height": 52
        },
        "outputId": "081c5351-8c81-406f-a579-c8f1b124d0eb"
      },
      "source": [
        "age = 18\n",
        "if(age >= 11):\n",
        "  print(\"You are eligible to see the Football match.\")\n",
        "  if(age <= 20 or age >= 60):\n",
        "    print(\"Ticket price is 1,200 Baht\")\n",
        "  else:\n",
        "    print(\"Ticket price is 2,000 Baht\")\n",
        "else:\n",
        "  print(\"You're not eligible to buy a ticket.\")"
      ],
      "execution_count": null,
      "outputs": [
        {
          "output_type": "stream",
          "text": [
            "You are eligible to see the Football match.\n",
            "Ticket price is 1,200 Baht\n"
          ],
          "name": "stdout"
        }
      ]
    },
    {
      "cell_type": "markdown",
      "metadata": {
        "id": "KXeJ8l5mcgdI"
      },
      "source": [
        "Ex33 Use the and operator in an if Statement"
      ]
    },
    {
      "cell_type": "code",
      "metadata": {
        "id": "ZmB2zOrraeOK",
        "colab": {
          "base_uri": "https://localhost:8080/",
          "height": 35
        },
        "outputId": "cd228c64-f58f-4804-da31-9f0a83e5377d"
      },
      "source": [
        "x = True\n",
        "y = True\n",
        "if x and y:\n",
        "  print('Both x and y are True')\n",
        "else:\n",
        "  print('x is False or y is False or Both x and y are False')"
      ],
      "execution_count": null,
      "outputs": [
        {
          "output_type": "stream",
          "text": [
            "Both x and y are True\n"
          ],
          "name": "stdout"
        }
      ]
    },
    {
      "cell_type": "markdown",
      "metadata": {
        "id": "-yy3Z-Wydl1I"
      },
      "source": [
        "Ex34 Use the in operator in an if Statement"
      ]
    },
    {
      "cell_type": "code",
      "metadata": {
        "id": "1Z0QiN_Nd3O9",
        "colab": {
          "base_uri": "https://localhost:8080/",
          "height": 52
        },
        "outputId": "767bede1-b2c8-4ddc-94a9-5597f918d611"
      },
      "source": [
        "s = 'Ruby'\n",
        "l = ['Java', 'Python', 'C#', 'C++', 'PHP', 'HTML5', 'Ruby']\n",
        "if s in l:\n",
        "  print(s + ' Tutorial')\n",
        "if s == 'Java' or s == 'Python' or s == 'C#' or s == 'Ruby':\n",
        "  print(s + ' Tutorial')"
      ],
      "execution_count": null,
      "outputs": [
        {
          "output_type": "stream",
          "text": [
            "Ruby Tutorial\n",
            "Ruby Tutorial\n"
          ],
          "name": "stdout"
        }
      ]
    },
    {
      "cell_type": "markdown",
      "metadata": {
        "id": "VZt67owwf02h"
      },
      "source": [
        "Ex35 Write an if-else in a single line of code"
      ]
    },
    {
      "cell_type": "code",
      "metadata": {
        "id": "lD-MHZdgf9uX",
        "colab": {
          "base_uri": "https://localhost:8080/",
          "height": 52
        },
        "outputId": "90421609-130f-427f-d6be-507af64dc66a"
      },
      "source": [
        "x = 160\n",
        "print(x)\n",
        "result = x*9 if x > 600 else x / 9\n",
        "print(result)"
      ],
      "execution_count": null,
      "outputs": [
        {
          "output_type": "stream",
          "text": [
            "160\n",
            "17.77777777777778\n"
          ],
          "name": "stdout"
        }
      ]
    },
    {
      "cell_type": "markdown",
      "metadata": {
        "id": "ZQLW-XvaiKsf"
      },
      "source": [
        "Ex36 Define a negative if"
      ]
    },
    {
      "cell_type": "code",
      "metadata": {
        "id": "cABq2b-ZiTdC",
        "colab": {
          "base_uri": "https://localhost:8080/",
          "height": 52
        },
        "outputId": "8a05808b-73af-45a8-e83a-0aa1767dab84"
      },
      "source": [
        "x = 70\n",
        "print(x)\n",
        "if not x == 70:\n",
        "    print('The Value of x different from 70')\n",
        "else:\n",
        "    print('The Value of x is equal to 70')"
      ],
      "execution_count": null,
      "outputs": [
        {
          "output_type": "stream",
          "text": [
            "70\n",
            "The Value of x is equal to 70\n"
          ],
          "name": "stdout"
        }
      ]
    },
    {
      "cell_type": "markdown",
      "metadata": {
        "id": "lnx44pHqjrpA"
      },
      "source": [
        "### Python for loop\n",
        "Ex37 for loop"
      ]
    },
    {
      "cell_type": "code",
      "metadata": {
        "id": "AvuKFHUYj8mb",
        "colab": {
          "base_uri": "https://localhost:8080/",
          "height": 87
        },
        "outputId": "8a9e728c-6ca0-429c-da66-ea7cf3e7c979"
      },
      "source": [
        "color_list = [\"Yellow\", \"Blue\", \"Green\", \"Black\"]\n",
        "for color in color_list:\n",
        "  print(color)"
      ],
      "execution_count": null,
      "outputs": [
        {
          "output_type": "stream",
          "text": [
            "Yellow\n",
            "Blue\n",
            "Green\n",
            "Black\n"
          ],
          "name": "stdout"
        }
      ]
    },
    {
      "cell_type": "markdown",
      "metadata": {
        "id": "ayH8uGzsk5yW"
      },
      "source": [
        "Ex38 Python for loop and range() function"
      ]
    },
    {
      "cell_type": "code",
      "metadata": {
        "id": "A9LI2XctlBzi",
        "colab": {
          "base_uri": "https://localhost:8080/",
          "height": 329
        },
        "outputId": "6faf7c1f-2324-4df0-ae94-3398dad27732"
      },
      "source": [
        "for a in range(4):\n",
        "  print(a)\n",
        "print(\"\\n\")\n",
        "for a in range(2,7): #[2,7)\n",
        "  print(a)\n",
        "print(\"\\n\")\n",
        "for a in range(2,23,5):\n",
        "  print(a)"
      ],
      "execution_count": null,
      "outputs": [
        {
          "output_type": "stream",
          "text": [
            "0\n",
            "1\n",
            "2\n",
            "3\n",
            "\n",
            "\n",
            "2\n",
            "3\n",
            "4\n",
            "5\n",
            "6\n",
            "\n",
            "\n",
            "2\n",
            "7\n",
            "12\n",
            "17\n",
            "22\n"
          ],
          "name": "stdout"
        }
      ]
    },
    {
      "cell_type": "markdown",
      "metadata": {
        "id": "-L2O-9vJm2e6"
      },
      "source": [
        "### Python while loop\n",
        "Ex40 while loop"
      ]
    },
    {
      "cell_type": "code",
      "metadata": {
        "id": "MakPpqYlnICs",
        "colab": {
          "base_uri": "https://localhost:8080/",
          "height": 187
        },
        "outputId": "f3fafa29-7fc9-441b-9d18-53b57d47291f"
      },
      "source": [
        "x = 0\n",
        "while(x<=9):\n",
        "  print(x)\n",
        "  x += 1 #x = x + 1"
      ],
      "execution_count": null,
      "outputs": [
        {
          "output_type": "stream",
          "text": [
            "0\n",
            "1\n",
            "2\n",
            "3\n",
            "4\n",
            "5\n",
            "6\n",
            "7\n",
            "8\n",
            "9\n"
          ],
          "name": "stdout"
        }
      ]
    },
    {
      "cell_type": "markdown",
      "metadata": {
        "id": "ZmEqepGjn7R9"
      },
      "source": [
        "Ex41 Python: while and else Statement"
      ]
    },
    {
      "cell_type": "code",
      "metadata": {
        "id": "Ro8Ts2ELoG_n",
        "colab": {
          "base_uri": "https://localhost:8080/",
          "height": 52
        },
        "outputId": "c003579a-421d-461e-a9d1-71521340be90"
      },
      "source": [
        "x = 0\n",
        "result = 0\n",
        "while(x<10):\n",
        "  result = result + x\n",
        "  x = x + 1\n",
        "else:\n",
        "  print('The sum first 9 integers: ', result)\n",
        "  print(0+1+2+3+4+5+6+7+8+9)"
      ],
      "execution_count": null,
      "outputs": [
        {
          "output_type": "stream",
          "text": [
            "The sum first 9 integers:  45\n",
            "45\n"
          ],
          "name": "stdout"
        }
      ]
    },
    {
      "cell_type": "markdown",
      "metadata": {
        "id": "MTcUEpoNpSCh"
      },
      "source": [
        "Ex42 while loop with if-else and break Statement"
      ]
    },
    {
      "cell_type": "code",
      "metadata": {
        "id": "dfBG71y5paEu",
        "colab": {
          "base_uri": "https://localhost:8080/",
          "height": 35
        },
        "outputId": "f93a4fc3-e0d9-4121-bf03-3acf24ccdaf5"
      },
      "source": [
        "x = 1\n",
        "result = 0\n",
        "while(x<10):\n",
        "  result = result + x\n",
        "  x = x + 1\n",
        "  if(x==5):\n",
        "    break\n",
        "else:\n",
        "  print('The sum of first 9 integers: ', result)\n",
        "print('The sum of ',x,' numbers is :', result)"
      ],
      "execution_count": null,
      "outputs": [
        {
          "output_type": "stream",
          "text": [
            "The sum of  5  numbers is : 10\n"
          ],
          "name": "stdout"
        }
      ]
    },
    {
      "cell_type": "markdown",
      "metadata": {
        "id": "XDjZiUFGsjMR"
      },
      "source": [
        "### Python String\n",
        "Ex46 Initialize string literals in Python"
      ]
    },
    {
      "cell_type": "code",
      "metadata": {
        "id": "3PS4V_V6s2Lu",
        "colab": {
          "base_uri": "https://localhost:8080/",
          "height": 208
        },
        "outputId": "7d903eb9-f341-4cc2-c982-01a390a35c4c"
      },
      "source": [
        "s = \"I'm a Programmer\"\n",
        "print(s)\n",
        "s1 = \"'I love Python Programming'\"\n",
        "print(s1)\n",
        "s2 = \"I'm a Programmer, 'I love Python Programming'\"\n",
        "print(s2)\n",
        "s3 = 'dir \"c:\\&temp\\*.sas\" /o:n /b > \"c:\\&temp\\python.txt\"'\n",
        "print(s3)\n",
        "s4 = \"\"\"        Python Exercises\n",
        "        C Tutorial\n",
        "        Java Tutorial and Exercises ...\"\"\"\n",
        "print(s4)\n",
        "s5 = '\\n\\t Python Exercises\\n \\t C Tutorial\\n \\t Java Tutorial and Exercises ...'\n",
        "print(s5)"
      ],
      "execution_count": null,
      "outputs": [
        {
          "output_type": "stream",
          "text": [
            "I'm a Programmer\n",
            "'I love Python Programming'\n",
            "I'm a Programmer, 'I love Python Programming'\n",
            "dir \"c:\\&temp\\*.sas\" /o:n /b > \"c:\\&temp\\python.txt\"\n",
            "        Python Exercises\n",
            "        C Tutorial\n",
            "        Java Tutorial and Exercises ...\n",
            "\n",
            "\t Python Exercises\n",
            " \t C Tutorial\n",
            " \t Java Tutorial and Exercises ...\n"
          ],
          "name": "stdout"
        }
      ]
    },
    {
      "cell_type": "markdown",
      "metadata": {
        "id": "5uztVM5RwC6q"
      },
      "source": [
        "Ex47 Access character(s) frome a String"
      ]
    },
    {
      "cell_type": "code",
      "metadata": {
        "id": "OB0GMzG7wPCT",
        "colab": {
          "base_uri": "https://localhost:8080/",
          "height": 225
        },
        "outputId": "4e15a4e4-ee71-4605-f36a-6892c832a13f"
      },
      "source": [
        "a = \"I'm a Programmer\"\n",
        "print(a)\n",
        "b = a[2]\n",
        "print(b)\n",
        "c = a[6]\n",
        "print(c)\n",
        "d = a[4+3]\n",
        "print(d)\n",
        "a0 = a[0]\n",
        "print(a0)\n",
        "a1 = a[-1]\n",
        "print(a1)\n",
        "a2 = a[-2]\n",
        "print(a2)\n",
        "a3 = a[15]\n",
        "print(a3)\n",
        "print(a[0:6]) #[0:6) or [0:5]\n",
        "print(a[3:9])\n",
        "print(a[:8])\n",
        "print(a[3:])"
      ],
      "execution_count": null,
      "outputs": [
        {
          "output_type": "stream",
          "text": [
            "I'm a Programmer\n",
            "m\n",
            "P\n",
            "r\n",
            "I\n",
            "r\n",
            "e\n",
            "r\n",
            "I'm a \n",
            " a Pro\n",
            "I'm a Pr\n",
            " a Programmer\n"
          ],
          "name": "stdout"
        }
      ]
    },
    {
      "cell_type": "markdown",
      "metadata": {
        "id": "Yh-382V2mCPt"
      },
      "source": [
        "###Ex48 Python String concatenation and Using '*' operator"
      ]
    },
    {
      "cell_type": "code",
      "metadata": {
        "id": "fsdes3MMmRCK",
        "colab": {
          "base_uri": "https://localhost:8080/",
          "height": 68
        },
        "outputId": "b1c951a5-468e-4fe8-ab0f-79224822020c"
      },
      "source": [
        "a = \"Python\" + \"Programming\"\n",
        "print(a)\n",
        "b = \"<\" + a*6 + \">\"\n",
        "print(b)\n",
        "c = \"Python\"\n",
        "d = \"Programming\"\n",
        "c+=d #c = c + d\n",
        "print(c)"
      ],
      "execution_count": null,
      "outputs": [
        {
          "output_type": "stream",
          "text": [
            "PythonProgramming\n",
            "<PythonProgrammingPythonProgrammingPythonProgrammingPythonProgrammingPythonProgrammingPythonProgramming>\n",
            "PythonProgramming\n"
          ],
          "name": "stdout"
        }
      ]
    },
    {
      "cell_type": "markdown",
      "metadata": {
        "id": "ejL06g-fnu2x"
      },
      "source": [
        "###Ex49 Python string are immutable"
      ]
    },
    {
      "cell_type": "code",
      "metadata": {
        "id": "wHNaAQEan0N2",
        "colab": {
          "base_uri": "https://localhost:8080/",
          "height": 34
        },
        "outputId": "d932153b-4763-4538-e8be-781917227958"
      },
      "source": [
        "a = \"PYTHON\"\n",
        "b = \"x\" + a[0:]\n",
        "print(b)"
      ],
      "execution_count": null,
      "outputs": [
        {
          "output_type": "stream",
          "text": [
            "xPYTHON\n"
          ],
          "name": "stdout"
        }
      ]
    },
    {
      "cell_type": "markdown",
      "metadata": {
        "id": "_Jl3FQA9pG65"
      },
      "source": [
        "###Ex50 String Length"
      ]
    },
    {
      "cell_type": "code",
      "metadata": {
        "id": "ums2LauzpLCj",
        "colab": {
          "base_uri": "https://localhost:8080/",
          "height": 68
        },
        "outputId": "5aa83282-195d-43fe-d1fb-ed33cf9202d9"
      },
      "source": [
        "a = \"Python Programming\"\n",
        "len(a)\n",
        "print(a[17])\n",
        "print(a[0])\n",
        "print(a[11])"
      ],
      "execution_count": null,
      "outputs": [
        {
          "output_type": "stream",
          "text": [
            "g\n",
            "P\n",
            "r\n"
          ],
          "name": "stdout"
        }
      ]
    },
    {
      "cell_type": "markdown",
      "metadata": {
        "id": "SIAP9u2SqK9L"
      },
      "source": [
        "###Ex51 Traverse string with a while loop"
      ]
    },
    {
      "cell_type": "code",
      "metadata": {
        "id": "e9i6uNJCqT6_",
        "colab": {
          "base_uri": "https://localhost:8080/",
          "height": 204
        },
        "outputId": "dc8fefca-bd27-4386-8292-0a522db4bf5e"
      },
      "source": [
        "a = \"PROGRAMMING\"\n",
        "i = 0\n",
        "while i < len(a):\n",
        "    b = a[i]\n",
        "    print(b)\n",
        "    i = i + 1"
      ],
      "execution_count": null,
      "outputs": [
        {
          "output_type": "stream",
          "text": [
            "P\n",
            "R\n",
            "O\n",
            "G\n",
            "R\n",
            "A\n",
            "M\n",
            "M\n",
            "I\n",
            "N\n",
            "G\n"
          ],
          "name": "stdout"
        }
      ]
    },
    {
      "cell_type": "markdown",
      "metadata": {
        "id": "NmAVEgMUrxAa"
      },
      "source": [
        "###Ex52 Traverse string with a for loop"
      ]
    },
    {
      "cell_type": "code",
      "metadata": {
        "id": "kkwBm5BAr3gT",
        "colab": {
          "base_uri": "https://localhost:8080/",
          "height": 391
        },
        "outputId": "1d2d97ff-9769-41c0-ed69-fca9076b2aa6"
      },
      "source": [
        "a = \"PROGRAMMING\"\n",
        "i = 0\n",
        "new = \" \"\n",
        "for i in range (0, len(a)):\n",
        "    b = a[i]\n",
        "    new = new + b \n",
        "    i = i + 1\n",
        "    print(b)\n",
        "    print(new)"
      ],
      "execution_count": null,
      "outputs": [
        {
          "output_type": "stream",
          "text": [
            "P\n",
            " P\n",
            "R\n",
            " PR\n",
            "O\n",
            " PRO\n",
            "G\n",
            " PROG\n",
            "R\n",
            " PROGR\n",
            "A\n",
            " PROGRA\n",
            "M\n",
            " PROGRAM\n",
            "M\n",
            " PROGRAMM\n",
            "I\n",
            " PROGRAMMI\n",
            "N\n",
            " PROGRAMMIN\n",
            "G\n",
            " PROGRAMMING\n"
          ],
          "name": "stdout"
        }
      ]
    },
    {
      "cell_type": "markdown",
      "metadata": {
        "id": "pEMWEi8HsyfE"
      },
      "source": [
        "###Ex53 Search a character in a string"
      ]
    },
    {
      "cell_type": "code",
      "metadata": {
        "id": "3v9FXi3Bs99U",
        "colab": {
          "base_uri": "https://localhost:8080/",
          "height": 51
        },
        "outputId": "258e30a4-bb47-4c87-8313-21a53fe6629b"
      },
      "source": [
        "def search(char,str):\n",
        "    L = len(str)\n",
        "    print(L)\n",
        "    i = 0\n",
        "    while i < L:\n",
        "        if str[i] == char:\n",
        "            return 1\n",
        "            i = i + 1\n",
        "        return -1\n",
        "print(search(\"P\", \"PYTHON\"))"
      ],
      "execution_count": null,
      "outputs": [
        {
          "output_type": "stream",
          "text": [
            "6\n",
            "1\n"
          ],
          "name": "stdout"
        }
      ]
    },
    {
      "cell_type": "markdown",
      "metadata": {
        "id": "tiLYxpbNuh2z"
      },
      "source": [
        "###Ex54 String Formatting 1"
      ]
    },
    {
      "cell_type": "code",
      "metadata": {
        "id": "IrH-HTAdusF0",
        "colab": {
          "base_uri": "https://localhost:8080/",
          "height": 187
        },
        "outputId": "3e8a244d-5035-4a7c-82ab-14a9e63ed3ec"
      },
      "source": [
        "#Syntax: str.format(*args, **kwargs)\n",
        "#Basic Formatting\n",
        "a = '{}{}'.format('Python', 'Programming')\n",
        "print(a)\n",
        "b = '{} {}'.format('Python', 'Programming')\n",
        "print(b)\n",
        "c = '{} {}'.format(20, 80)\n",
        "print(c)\n",
        "d = '{1} {0}'.format('Python', 'Programming')\n",
        "print(d)\n",
        "#Padding and Aligning Strings\n",
        "#Aligh Right\n",
        "e = '{:>15}'.format('Python')\n",
        "print(e)\n",
        "f = '{:>20}'.format('Python')\n",
        "print(f)\n",
        "#Aligh Left\n",
        "g = '{:15}'.format('Python')\n",
        "print(g)\n",
        "#By Argument\n",
        "h = '{:<{}s}'.format('Python', 15)\n",
        "print(h)\n",
        "i = '{:*<15}'.format('Python')\n",
        "print(i)\n",
        "#Align Center\n",
        "j = '{:^16}'.format('Python')\n",
        "print(j)"
      ],
      "execution_count": null,
      "outputs": [
        {
          "output_type": "stream",
          "text": [
            "PythonProgramming\n",
            "Python Programming\n",
            "20 80\n",
            "Programming Python\n",
            "         Python\n",
            "              Python\n",
            "Python         \n",
            "Python         \n",
            "Python*********\n",
            "     Python     \n"
          ],
          "name": "stdout"
        }
      ]
    },
    {
      "cell_type": "markdown",
      "metadata": {
        "id": "U1UuNECcyMtt"
      },
      "source": [
        "###Ex55 String Formatting 2"
      ]
    },
    {
      "cell_type": "code",
      "metadata": {
        "id": "zOiYgmAIyQWy",
        "colab": {
          "base_uri": "https://localhost:8080/",
          "height": 238
        },
        "outputId": "dc56c652-0b92-44f7-9ee9-717feee3e77e"
      },
      "source": [
        "#Truncating Long String\n",
        "a = '{:.10}'.format('Python Tutorial')\n",
        "print(a)\n",
        "#By Arguemnt\n",
        "b = '{:.{}}'.format('Python Tutorial', 10)\n",
        "print(b)\n",
        "#Combining Trucating and Padding\n",
        "c = '{:10.10}'.format('Pyhton Tutorial')\n",
        "print(c)\n",
        "e = '{:d}'.format(30)\n",
        "print(e)\n",
        "f = '{:f}'.format(3.14689323899)\n",
        "print(f)\n",
        "#Padding Numbers\n",
        "g = '{:5d}'.format(39)\n",
        "print(g)\n",
        "h = '{:05.2f}'.format(6.12345678123)\n",
        "print(h)\n",
        "#Signed Numbers\n",
        "i = '{:+d}'.format(39)\n",
        "print(i)\n",
        "j = '{: d}'.format((-39))\n",
        "print(j)\n",
        "k = '{: d}'.format(39)\n",
        "print(k)\n",
        "#Named Placeholders\n",
        "data = {'first': 'Aj.', 'last': 'NesT'}\n",
        "l = '{first} {last}'.format(**data)\n",
        "print(l)\n",
        "m = '{first} {last}'.format(first='Aj.', last='NesT')\n",
        "print(m)\n",
        "#Date Time\n",
        "from datetime import datetime\n",
        "n = '{:%Y-%m-%d %H:%M}'.format(datetime(2020, 8, 26, 10, 38))\n",
        "print(n)"
      ],
      "execution_count": null,
      "outputs": [
        {
          "output_type": "stream",
          "text": [
            "Python Tut\n",
            "Python Tut\n",
            "Pyhton Tut\n",
            "30\n",
            "3.146893\n",
            "   39\n",
            "06.12\n",
            "+39\n",
            "-39\n",
            " 39\n",
            "Aj. NesT\n",
            "Aj. NesT\n",
            "2020-08-26 10:38\n"
          ],
          "name": "stdout"
        }
      ]
    },
    {
      "cell_type": "markdown",
      "metadata": {
        "id": "us8uRvi92cEN"
      },
      "source": [
        "##List"
      ]
    },
    {
      "cell_type": "markdown",
      "metadata": {
        "id": "---ou8bC2Y6Z"
      },
      "source": [
        "###Ex56 Create a Python list "
      ]
    },
    {
      "cell_type": "code",
      "metadata": {
        "id": "bzVA8wtl2g8B",
        "colab": {
          "base_uri": "https://localhost:8080/",
          "height": 136
        },
        "outputId": "267443a8-8827-4123-e6b5-90be7d899b97"
      },
      "source": [
        "List1 = [6, 9, 12, 16]\n",
        "print(List1)\n",
        "List2 = ['Red', 'Blue', 'Green', 'White']\n",
        "print(List2)\n",
        "List3 = ['Green', 12, 116.16]\n",
        "print(List3)\n",
        "List = []\n",
        "print(List)\n",
        "#Use + Operator and * Operator\n",
        "color_list1 = [\"White\", \"Yellow\"]\n",
        "color_list2 = [\"Pink\", \"Blue\"]\n",
        "color_list3 = [\"Green\", \"Black\"]\n",
        "color_list = color_list1 + color_list2 + color_list3\n",
        "print(color_list)\n",
        "number = [1, 2, 3]\n",
        "print(number[2]*4)\n",
        "print(number*4)"
      ],
      "execution_count": null,
      "outputs": [
        {
          "output_type": "stream",
          "text": [
            "[6, 9, 12, 16]\n",
            "['Red', 'Blue', 'Green', 'White']\n",
            "['Green', 12, 116.16]\n",
            "[]\n",
            "['White', 'Yellow', 'Pink', 'Blue', 'Green', 'Black']\n",
            "12\n",
            "[1, 2, 3, 1, 2, 3, 1, 2, 3, 1, 2, 3]\n"
          ],
          "name": "stdout"
        }
      ]
    },
    {
      "cell_type": "markdown",
      "metadata": {
        "id": "HZ4YQEOi4Xvx"
      },
      "source": [
        "###Ex57 List indices"
      ]
    },
    {
      "cell_type": "code",
      "metadata": {
        "id": "gTrKKP5R4hNW",
        "colab": {
          "base_uri": "https://localhost:8080/",
          "height": 187
        },
        "outputId": "dea83532-935b-4360-df37-1c687817c997"
      },
      "source": [
        "color_list = [\"Red\", \"Blue\", \"Green\", \"Black\", \"Yellow\"]\n",
        "print(color_list[0])\n",
        "print(color_list[1])\n",
        "print(color_list[2])\n",
        "print(color_list[3])\n",
        "print(color_list[4])\n",
        "\n",
        "#Add an item to the end of the list\n",
        "color_list.append(\"White\")\n",
        "print(color_list)\n",
        "\n",
        "#Insert an item at a given position\n",
        "color_list.insert(2, \"Grey\")\n",
        "print(color_list)\n",
        "\n",
        "#Modify an element by using the index of he element\n",
        "color_list[2] = \"Pink\"\n",
        "print(color_list)\n",
        "\n",
        "#Remove an items from the list\n",
        "color_list.remove(\"Black\")\n",
        "print(color_list)\n",
        "\n",
        "#Remove all items from the list\n",
        "color_list.clear()\n",
        "print(color_list)"
      ],
      "execution_count": null,
      "outputs": [
        {
          "output_type": "stream",
          "text": [
            "Red\n",
            "Blue\n",
            "Green\n",
            "Black\n",
            "Yellow\n",
            "['Red', 'Blue', 'Green', 'Black', 'Yellow', 'White']\n",
            "['Red', 'Blue', 'Grey', 'Green', 'Black', 'Yellow', 'White']\n",
            "['Red', 'Blue', 'Pink', 'Green', 'Black', 'Yellow', 'White']\n",
            "['Red', 'Blue', 'Pink', 'Green', 'Yellow', 'White']\n",
            "[]\n"
          ],
          "name": "stdout"
        }
      ]
    },
    {
      "cell_type": "markdown",
      "metadata": {
        "id": "LLzVHsCh90P1"
      },
      "source": [
        "###Ex58 List Slices 1"
      ]
    },
    {
      "cell_type": "code",
      "metadata": {
        "id": "xioWdrqt96Wd",
        "colab": {
          "base_uri": "https://localhost:8080/",
          "height": 204
        },
        "outputId": "de1d4f9f-8267-4441-c240-a6b1202c71b8"
      },
      "source": [
        "color_list = [\"Red\", \"Blue\", \"Green\", \"Black\"]\n",
        "print(color_list[0:2]) #[ )\n",
        "print(color_list[1:2]) #[0, 1, 2, 3, ...]\n",
        "print(color_list[1:-1]) #[..., -3, -2, -1]\n",
        "print(color_list[1:-2])\n",
        "print(color_list[:3])\n",
        "print(color_list[:])\n",
        "color_list.pop(2)\n",
        "print(color_list)\n",
        "color_list.index(\"Red\")\n",
        "color_list.index(\"Black\")\n",
        "color_list = [\"Red\", \"Blue\", \"Green\", \"Black\"]\n",
        "print(color_list)\n",
        "color_list.append(\"Green\")\n",
        "print(color_list)\n",
        "color_list.count(\"Green\")\n",
        "color_list.append(\"Blue\")\n",
        "print(color_list)\n",
        "color_list.count(\"Blue\")\n"
      ],
      "execution_count": null,
      "outputs": [
        {
          "output_type": "stream",
          "text": [
            "['Red', 'Blue']\n",
            "['Blue']\n",
            "['Blue', 'Green']\n",
            "['Blue']\n",
            "['Red', 'Blue', 'Green']\n",
            "['Red', 'Blue', 'Green', 'Black']\n",
            "['Red', 'Blue', 'Black']\n",
            "['Red', 'Blue', 'Green', 'Black']\n",
            "['Red', 'Blue', 'Green', 'Black', 'Green']\n",
            "['Red', 'Blue', 'Green', 'Black', 'Green', 'Blue']\n"
          ],
          "name": "stdout"
        },
        {
          "output_type": "execute_result",
          "data": {
            "text/plain": [
              "2"
            ]
          },
          "metadata": {
            "tags": []
          },
          "execution_count": 29
        }
      ]
    },
    {
      "cell_type": "code",
      "metadata": {
        "id": "arYuMbHKCCH4",
        "colab": {
          "base_uri": "https://localhost:8080/",
          "height": 204
        },
        "outputId": "de1d4f9f-8267-4441-c240-a6b1202c71b8"
      },
      "source": [
        "color_list = [\"Red\", \"Blue\", \"Green\", \"Black\"]\n",
        "print(color_list[0:2]) #[ )\n",
        "print(color_list[1:2]) #[0, 1, 2, 3, ...]\n",
        "print(color_list[1:-1]) #[..., -3, -2, -1]\n",
        "print(color_list[1:-2])\n",
        "print(color_list[:3])\n",
        "print(color_list[:])\n",
        "color_list.pop(2)\n",
        "print(color_list)\n",
        "color_list.index(\"Red\")\n",
        "color_list.index(\"Black\")\n",
        "color_list = [\"Red\", \"Blue\", \"Green\", \"Black\"]\n",
        "print(color_list)\n",
        "color_list.append(\"Green\")\n",
        "print(color_list)\n",
        "color_list.count(\"Green\")\n",
        "color_list.append(\"Blue\")\n",
        "print(color_list)\n",
        "color_list.count(\"Blue\")\n"
      ],
      "execution_count": null,
      "outputs": [
        {
          "output_type": "stream",
          "text": [
            "['Red', 'Blue']\n",
            "['Blue']\n",
            "['Blue', 'Green']\n",
            "['Blue']\n",
            "['Red', 'Blue', 'Green']\n",
            "['Red', 'Blue', 'Green', 'Black']\n",
            "['Red', 'Blue', 'Black']\n",
            "['Red', 'Blue', 'Green', 'Black']\n",
            "['Red', 'Blue', 'Green', 'Black', 'Green']\n",
            "['Red', 'Blue', 'Green', 'Black', 'Green', 'Blue']\n"
          ],
          "name": "stdout"
        },
        {
          "output_type": "execute_result",
          "data": {
            "text/plain": [
              "2"
            ]
          },
          "metadata": {
            "tags": []
          },
          "execution_count": 29
        }
      ]
    },
    {
      "cell_type": "code",
      "metadata": {
        "id": "s1-eDDNTCD9r",
        "colab": {
          "base_uri": "https://localhost:8080/",
          "height": 221
        },
        "outputId": "72c58413-6d62-4660-bb38-bb46d22c44f2"
      },
      "source": [
        "color_list = [\"Red\", \"Blue\", \"Green\", \"Black\"]\n",
        "print(color_list[0:2]) #[ )\n",
        "print(color_list[1:2]) #[0, 1, 2, 3, ...]\n",
        "print(color_list[1:-1]) #[..., -3, -2, -1]\n",
        "print(color_list[1:-2])\n",
        "print(color_list[:3])\n",
        "print(color_list[:])\n",
        "color_list.pop(2)\n",
        "print(color_list)\n",
        "color_list.index(\"Red\")\n",
        "color_list.index(\"Black\")\n",
        "color_list = [\"Red\", \"Blue\", \"Green\", \"Black\"]\n",
        "print(color_list)\n",
        "color_list.append(\"Green\")\n",
        "print(color_list)\n",
        "color_list.count(\"Green\")\n",
        "color_list.append(\"Blue\")\n",
        "print(color_list)\n",
        "color_list.count(\"Blue\")\n",
        "color_list.append(\"Green\")\n",
        "print(color_list)\n",
        "color_list.count(\"Green\")"
      ],
      "execution_count": null,
      "outputs": [
        {
          "output_type": "stream",
          "text": [
            "['Red', 'Blue']\n",
            "['Blue']\n",
            "['Blue', 'Green']\n",
            "['Blue']\n",
            "['Red', 'Blue', 'Green']\n",
            "['Red', 'Blue', 'Green', 'Black']\n",
            "['Red', 'Blue', 'Black']\n",
            "['Red', 'Blue', 'Green', 'Black']\n",
            "['Red', 'Blue', 'Green', 'Black', 'Green']\n",
            "['Red', 'Blue', 'Green', 'Black', 'Green', 'Blue']\n",
            "['Red', 'Blue', 'Green', 'Black', 'Green', 'Blue', 'Green']\n"
          ],
          "name": "stdout"
        },
        {
          "output_type": "execute_result",
          "data": {
            "text/plain": [
              "3"
            ]
          },
          "metadata": {
            "tags": []
          },
          "execution_count": 30
        }
      ]
    },
    {
      "cell_type": "markdown",
      "metadata": {
        "id": "2IBX2yzmCPao"
      },
      "source": [
        "###Ex59 List Slices 2"
      ]
    },
    {
      "cell_type": "code",
      "metadata": {
        "id": "d8bQkcEUCWOF",
        "colab": {
          "base_uri": "https://localhost:8080/",
          "height": 153
        },
        "outputId": "62758677-7db1-452a-d4ac-72307ce30dae"
      },
      "source": [
        "#Sort the items of the list in place\n",
        "color_list = [\"Red\", \"Blue\", \"Green\", \"Black\"]\n",
        "print(color_list)\n",
        "#Sort\n",
        "color_list.sort(key=None, reverse=False)\n",
        "print(color_list)\n",
        "#Reverse\n",
        "color_list.sort(key=None, reverse=True)\n",
        "print(color_list)\n",
        "color_list.reverse()\n",
        "print(color_list)\n",
        "#Copy\n",
        "color_list.copy()\n",
        "color_list.index(\"Green\")\n",
        "color_list.index(\"Blue\")\n",
        "#Lists are Mutable\n",
        "print(color_list)\n",
        "print(color_list[0])\n",
        "color_list[0] = \"White\"\n",
        "print(color_list)\n",
        "print(color_list[0])"
      ],
      "execution_count": null,
      "outputs": [
        {
          "output_type": "stream",
          "text": [
            "['Red', 'Blue', 'Green', 'Black']\n",
            "['Black', 'Blue', 'Green', 'Red']\n",
            "['Red', 'Green', 'Blue', 'Black']\n",
            "['Black', 'Blue', 'Green', 'Red']\n",
            "['Black', 'Blue', 'Green', 'Red']\n",
            "Black\n",
            "['White', 'Blue', 'Green', 'Red']\n",
            "White\n"
          ],
          "name": "stdout"
        }
      ]
    },
    {
      "cell_type": "markdown",
      "metadata": {
        "id": "cl1D-M6zE5yO"
      },
      "source": [
        "###Ex60 List Slices 3"
      ]
    },
    {
      "cell_type": "code",
      "metadata": {
        "id": "FWr98Ei7E_rQ",
        "colab": {
          "base_uri": "https://localhost:8080/",
          "height": 153
        },
        "outputId": "3197b0c4-720b-44a6-b861-0c16b379e679"
      },
      "source": [
        "#Convert a list to a tuple in Python\n",
        "listx = [1, 2, 3, 4]\n",
        "print(listx)\n",
        "tuplex = tuple(listx)\n",
        "print(tuplex)\n",
        "#How to use the double colon[::]\n",
        "listx = [3, 13, 6, 9, 18, 2, 10, 1, 16, 4]\n",
        "print(listx)\n",
        "sublist = listx[2:8:2] #list[start:stop:step]\n",
        "print(sublist)\n",
        "sublist = listx[6:2:-2] #list[start:stop:step]\n",
        "print(sublist)\n",
        "print(listx)\n",
        "print(max(listx))\n",
        "print(min(listx))"
      ],
      "execution_count": null,
      "outputs": [
        {
          "output_type": "stream",
          "text": [
            "[1, 2, 3, 4]\n",
            "(1, 2, 3, 4)\n",
            "[3, 13, 6, 9, 18, 2, 10, 1, 16, 4]\n",
            "[6, 18, 10]\n",
            "[10, 18]\n",
            "[3, 13, 6, 9, 18, 2, 10, 1, 16, 4]\n",
            "18\n",
            "1\n"
          ],
          "name": "stdout"
        }
      ]
    },
    {
      "cell_type": "markdown",
      "metadata": {
        "id": "bkXhEpKCSKwb"
      },
      "source": [
        "###Ex61 List Slices 4"
      ]
    },
    {
      "cell_type": "code",
      "metadata": {
        "colab": {
          "base_uri": "https://localhost:8080/"
        },
        "id": "VzFfsi9QVXkm",
        "outputId": "308a4b6d-1b9b-46cb-b414-07c5ec56632c"
      },
      "source": [
        "#Compare two lists in Python\n",
        "listx1, listx2 = [3, 5 ,7, 9], [3, 5, 7, 9]\n",
        "print(listx1)\n",
        "print(listx2)\n",
        "print(listx1 == listx2)\n",
        "listx1, listx2 = [9, 7, 5, 3], [3, 5, 7, 9] #Create two lists equal, but unsorted.\n",
        "print(listx1 == listx2)\n",
        "listx1, listx2 = [2, 3, 5 ,7], [3, 5, 7, 9] #Create two different lists\n",
        "print(listx1 == listx2)\n",
        "print(listx1.sort() == listx2.sort()) #Order and Compare"
      ],
      "execution_count": null,
      "outputs": [
        {
          "output_type": "stream",
          "text": [
            "[3, 5, 7, 9]\n",
            "[3, 5, 7, 9]\n",
            "True\n",
            "False\n",
            "False\n",
            "True\n"
          ],
          "name": "stdout"
        }
      ]
    },
    {
      "cell_type": "markdown",
      "metadata": {
        "id": "Pk5ysPakXLEh"
      },
      "source": [
        "###Ex62 List Slices 5"
      ]
    },
    {
      "cell_type": "code",
      "metadata": {
        "colab": {
          "base_uri": "https://localhost:8080/"
        },
        "id": "48dwFfExXP-Y",
        "outputId": "4a722a94-e14a-4f1e-94ac-a2cb0e0861ca"
      },
      "source": [
        "#Nested lists in Python\n",
        "listx = [[\"Hello\", \"Python\"], [0, 1, 2, 3, 4, 5]]\n",
        "print(listx)\n",
        "print(listx[0][1]) #The first [] indicates the index of the outer list.\n",
        "print(listx[1][3]) #The second [] indicates the index nested lists.\n",
        "listx.append([True, False]) #Add new items\n",
        "print(listx)\n",
        "listx[1][2] = 4\n",
        "print(listx)"
      ],
      "execution_count": null,
      "outputs": [
        {
          "output_type": "stream",
          "text": [
            "[['Hello', 'Python'], [0, 1, 2, 3, 4, 5]]\n",
            "Python\n",
            "3\n",
            "[['Hello', 'Python'], [0, 1, 2, 3, 4, 5], [True, False]]\n",
            "[['Hello', 'Python'], [0, 1, 4, 3, 4, 5], [True, False]]\n"
          ],
          "name": "stdout"
        }
      ]
    },
    {
      "cell_type": "markdown",
      "metadata": {
        "id": "sLf54vFoZscQ"
      },
      "source": [
        "###Ex63 List Slices 6"
      ]
    },
    {
      "cell_type": "code",
      "metadata": {
        "colab": {
          "base_uri": "https://localhost:8080/"
        },
        "id": "FKK0GCx9Zxaz",
        "outputId": "be317729-9f89-414e-fe3e-eca09363787c"
      },
      "source": [
        "#How can I get the index of an element contained in the list?\n",
        "listY = list(\"HELLO PYTHON\")\n",
        "print(listY)\n",
        "index = listY.index(\"L\") #get index of the first item whose value is passed as parameter\n",
        "print(index)\n",
        "index = listY.index(\"T\", 4) #define the index from which you want to search\n",
        "print(index)\n",
        "index = listY.index(\"O\", 3, 5) #define the segment of the list to be searched\n",
        "print(index)"
      ],
      "execution_count": null,
      "outputs": [
        {
          "output_type": "stream",
          "text": [
            "['H', 'E', 'L', 'L', 'O', ' ', 'P', 'Y', 'T', 'H', 'O', 'N']\n",
            "2\n",
            "8\n",
            "4\n"
          ],
          "name": "stdout"
        }
      ]
    },
    {
      "cell_type": "markdown",
      "metadata": {
        "id": "gToTkt0CbUoj"
      },
      "source": [
        "###Ex64 Using Lists as Stacks"
      ]
    },
    {
      "cell_type": "code",
      "metadata": {
        "colab": {
          "base_uri": "https://localhost:8080/"
        },
        "id": "jirbROUqbaC0",
        "outputId": "ccdc82da-c1ea-4707-d667-cf9f3582a869"
      },
      "source": [
        "color_list = [\"Red\", \"Blue\", \"Green\", \"Black\"]\n",
        "print(color_list)\n",
        "color_list.append(\"White\")\n",
        "print(color_list)\n",
        "color_list.append(\"Yellow\")\n",
        "print(color_list)\n",
        "color_list.pop()\n",
        "print(color_list)\n",
        "color_list.pop()\n",
        "color_list.pop()\n",
        "print(color_list)"
      ],
      "execution_count": null,
      "outputs": [
        {
          "output_type": "stream",
          "text": [
            "['Red', 'Blue', 'Green', 'Black']\n",
            "['Red', 'Blue', 'Green', 'Black', 'White']\n",
            "['Red', 'Blue', 'Green', 'Black', 'White', 'Yellow']\n",
            "['Red', 'Blue', 'Green', 'Black', 'White']\n",
            "['Red', 'Blue', 'Green']\n"
          ],
          "name": "stdout"
        }
      ]
    },
    {
      "cell_type": "markdown",
      "metadata": {
        "id": "tZdCGjqkdCi9"
      },
      "source": [
        "###Ex65 Using Lists as Queues"
      ]
    },
    {
      "cell_type": "code",
      "metadata": {
        "colab": {
          "base_uri": "https://localhost:8080/"
        },
        "id": "wc2IXxc7dHNE",
        "outputId": "89670a51-2f93-4c68-d133-bcc39d464c27"
      },
      "source": [
        "from collections import deque\n",
        "color_list = deque([\"Red\", \"Blue\", \"Green\", \"Black\"])\n",
        "color_list.append(\"White\")\n",
        "print(color_list)\n",
        "color_list.append(\"Yellow\")\n",
        "print(color_list)\n",
        "color_list.popleft() #The first to arrive now leaves\n",
        "print(color_list)\n",
        "color_list.popleft() #The second to arive now leaves\n",
        "print(color_list)"
      ],
      "execution_count": null,
      "outputs": [
        {
          "output_type": "stream",
          "text": [
            "deque(['Red', 'Blue', 'Green', 'Black', 'White'])\n",
            "deque(['Red', 'Blue', 'Green', 'Black', 'White', 'Yellow'])\n",
            "deque(['Blue', 'Green', 'Black', 'White', 'Yellow'])\n",
            "deque(['Green', 'Black', 'White', 'Yellow'])\n"
          ],
          "name": "stdout"
        }
      ]
    },
    {
      "cell_type": "markdown",
      "metadata": {
        "id": "_-eiXm4Nel_2"
      },
      "source": [
        "##Python Dictionary"
      ]
    },
    {
      "cell_type": "markdown",
      "metadata": {
        "id": "hAxJ1CT8e1v-"
      },
      "source": [
        "###Ex66 Create a dictionary in Python"
      ]
    },
    {
      "cell_type": "code",
      "metadata": {
        "colab": {
          "base_uri": "https://localhost:8080/"
        },
        "id": "oLzC6i38gdnc",
        "outputId": "8b7a97f2-1672-456f-d4f8-bacc32ac8f21"
      },
      "source": [
        "#Create a new dictoinary in Python\n",
        "#Empty dictionary\n",
        "new_dict = {}\n",
        "print(new_dict)\n",
        "#Dictionary with key-value\n",
        "color = {\"col1\" : \"Red\", \"col2\" : \"Green\", \"col3\" : \"Orange\"}\n",
        "#Get value by key in Python dictionary\n",
        "#Declaring a dictionary\n",
        "dict = {1:20.5, 2:3.03, 3:23.22, 4:33.12}\n",
        "#Access value using key\n",
        "dict[1]\n",
        "dict[3]\n",
        "#Accessing value using get() method\n",
        "dict.get(1)\n",
        "dict.get(3)\n",
        "#Add key/value to a dictionary in Python\n",
        "#Declaring a dictionary with a single element\n",
        "dict = {'python1' : 'DICTIONARY'}\n",
        "print(dict)\n",
        "dict['python2'] = 'STRING'\n",
        "print(dict)\n",
        "#Using update() method to add key-value pairs in to dictionary\n",
        "d = {0:10, 1:20}\n",
        "print(d)\n",
        "d.update({2:30})\n",
        "print(d)"
      ],
      "execution_count": null,
      "outputs": [
        {
          "output_type": "stream",
          "text": [
            "{}\n",
            "{'python1': 'DICTIONARY'}\n",
            "{'python1': 'DICTIONARY', 'python2': 'STRING'}\n",
            "{0: 10, 1: 20}\n",
            "{0: 10, 1: 20, 2: 30}\n"
          ],
          "name": "stdout"
        }
      ]
    },
    {
      "cell_type": "markdown",
      "metadata": {
        "id": "yTPOVCKjiRV6"
      },
      "source": [
        "###Ex67 Iterate over Python dictionaries using for loops"
      ]
    },
    {
      "cell_type": "code",
      "metadata": {
        "colab": {
          "base_uri": "https://localhost:8080/"
        },
        "id": "1GLB9RUTiXMj",
        "outputId": "40d5cb23-7ddf-4796-d763-0f4d22377de3"
      },
      "source": [
        "#Iterate over Python dictionaries using for loops\n",
        "d = {'Red': 1, 'Green': 2, 'Blue': 3}\n",
        "for color_key, value in d.items():\n",
        "  print(color_key, 'corresponds to', d[color_key])"
      ],
      "execution_count": null,
      "outputs": [
        {
          "output_type": "stream",
          "text": [
            "Red corresponds to 1\n",
            "Green corresponds to 2\n",
            "Blue corresponds to 3\n"
          ],
          "name": "stdout"
        }
      ]
    },
    {
      "cell_type": "markdown",
      "metadata": {
        "id": "saDwYXBzjNMa"
      },
      "source": [
        "###Ex68 Remove a key from a Pyhton dictionary"
      ]
    },
    {
      "cell_type": "code",
      "metadata": {
        "colab": {
          "base_uri": "https://localhost:8080/"
        },
        "id": "wlpY5w1jjUCv",
        "outputId": "eab9a8fc-a323-47e2-be4a-bebbc34c9fe1"
      },
      "source": [
        "#Remove a key from a Python dictionary\n",
        "myDict = {'a':1,'b':2,'c':3,'d':4}\n",
        "print(myDict)\n",
        "if 'a' in myDict:\n",
        "  del myDict['a']\n",
        "print(myDict)  "
      ],
      "execution_count": null,
      "outputs": [
        {
          "output_type": "stream",
          "text": [
            "{'a': 1, 'b': 2, 'c': 3, 'd': 4}\n",
            "{'b': 2, 'c': 3, 'd': 4}\n"
          ],
          "name": "stdout"
        }
      ]
    },
    {
      "cell_type": "markdown",
      "metadata": {
        "id": "ZNuUWObVj1HJ"
      },
      "source": [
        "###Ex69 Sort a Python dictionary by key"
      ]
    },
    {
      "cell_type": "code",
      "metadata": {
        "colab": {
          "base_uri": "https://localhost:8080/"
        },
        "id": "T3x7USp0j7L5",
        "outputId": "b819013d-deab-48ba-e47a-fd4f30e00ca4"
      },
      "source": [
        "color_dict = {'red':'#FF0000', 'green':'#008000', 'black':'#000000', 'white':'#FFFFFF'}\n",
        "for key in sorted(color_dict):\n",
        "  print(\"%s: %s\" % (key, color_dict[key]))"
      ],
      "execution_count": null,
      "outputs": [
        {
          "output_type": "stream",
          "text": [
            "black: #000000\n",
            "green: #008000\n",
            "red: #FF0000\n",
            "white: #FFFFFF\n"
          ],
          "name": "stdout"
        }
      ]
    },
    {
      "cell_type": "markdown",
      "metadata": {
        "id": "Bp7JSG7zk3Vy"
      },
      "source": [
        "###Ex70 Find the maximum and minimum value of a Python dictionary"
      ]
    },
    {
      "cell_type": "code",
      "metadata": {
        "colab": {
          "base_uri": "https://localhost:8080/"
        },
        "id": "4kigJhGvlBC_",
        "outputId": "4b2be436-bf9e-4c63-c66d-cf441787da1d"
      },
      "source": [
        "my_dict = {'x':500, 'y':5874, 'z':560}\n",
        "key_max = max(my_dict.keys(), key=(lambda k: my_dict[k]))\n",
        "key_min = min(my_dict.keys(), key=(lambda k: my_dict[k]))\n",
        "print('Maximum Value: ',my_dict[key_max])\n",
        "print('Minimum Value: ',my_dict[key_min])"
      ],
      "execution_count": null,
      "outputs": [
        {
          "output_type": "stream",
          "text": [
            "Maximum Value:  5874\n",
            "Minimum Value:  500\n"
          ],
          "name": "stdout"
        }
      ]
    },
    {
      "cell_type": "markdown",
      "metadata": {
        "id": "0pnxJ1PjmOtu"
      },
      "source": [
        "###Ex71 Concatenate two Python dictionaries into a new one"
      ]
    },
    {
      "cell_type": "code",
      "metadata": {
        "colab": {
          "base_uri": "https://localhost:8080/"
        },
        "id": "_x8tVPAOmWlT",
        "outputId": "4bb1fea1-7878-459d-cc0d-2c55f2d7c9fc"
      },
      "source": [
        "dic1 = {1:10, 2:20}\n",
        "dic2 = {3:30, 4:40}\n",
        "dic3 = {5:50, 6:60}\n",
        "dic4 = {}\n",
        "for d in (dic1, dic2, dic3): dic4.update(d)\n",
        "print(dic4)"
      ],
      "execution_count": null,
      "outputs": [
        {
          "output_type": "stream",
          "text": [
            "{1: 10, 2: 20, 3: 30, 4: 40, 5: 50, 6: 60}\n"
          ],
          "name": "stdout"
        }
      ]
    },
    {
      "cell_type": "markdown",
      "metadata": {
        "id": "PRa5bUS_m6Cs"
      },
      "source": [
        "###Ex72 Test whether a Python dictionary contains a specific key"
      ]
    },
    {
      "cell_type": "code",
      "metadata": {
        "colab": {
          "base_uri": "https://localhost:8080/"
        },
        "id": "F4S96IlonApo",
        "outputId": "15979dd5-b668-4ae3-cdcc-0beb73523525"
      },
      "source": [
        "fruits = {}\n",
        "fruits[\"apple\"] = 1\n",
        "fruits[\"mango\"] = 2\n",
        "fruits[\"banana\"] = 4\n",
        "#Use in.\n",
        "if \"mango\" in fruits:\n",
        "  print(\"Has mango\")\n",
        "else:\n",
        "  print(\"No mango\") \n",
        "\n",
        "#Use in on nonexistent key.\n",
        "if \"orange\" in fruits:\n",
        "  print(\"Has orange\")\n",
        "else:\n",
        "  print(\"No orange\")  "
      ],
      "execution_count": null,
      "outputs": [
        {
          "output_type": "stream",
          "text": [
            "Has mango\n",
            "No orange\n"
          ],
          "name": "stdout"
        }
      ]
    },
    {
      "cell_type": "markdown",
      "metadata": {
        "id": "eR1fD6yOn7QL"
      },
      "source": [
        "###Ex73 Find the length of a Python dictionary"
      ]
    },
    {
      "cell_type": "code",
      "metadata": {
        "colab": {
          "base_uri": "https://localhost:8080/"
        },
        "id": "NZje82eeoDRC",
        "outputId": "bd0abc50-170f-4a61-eadf-f82d6d5a69fa"
      },
      "source": [
        "fruits = {\"mango\": 2, \"orange\": 6}\n",
        "#Use len() function to get the length of the dicationary\n",
        "print(\"Length: \", len(fruits))"
      ],
      "execution_count": null,
      "outputs": [
        {
          "output_type": "stream",
          "text": [
            "Length:  2\n"
          ],
          "name": "stdout"
        }
      ]
    },
    {
      "cell_type": "markdown",
      "metadata": {
        "id": "hLgCDs50LDDB"
      },
      "source": [
        "##Python Tuples"
      ]
    },
    {
      "cell_type": "markdown",
      "metadata": {
        "id": "Yd5jnVAXM_b-"
      },
      "source": [
        "###Ex74 Create a tuple"
      ]
    },
    {
      "cell_type": "code",
      "metadata": {
        "colab": {
          "base_uri": "https://localhost:8080/"
        },
        "id": "Q_IdFgVCNFsb",
        "outputId": "f0697c72-3e97-4e17-94cd-45f4705690f0"
      },
      "source": [
        "#Create an Empty Tuple\n",
        "tuplex = ()\n",
        "print(tuplex)\n",
        "#Create a tuple with different data types\n",
        "tuplex = ('tuple',False,6.3,2)\n",
        "print(tuplex)\n",
        "#Create a tuple with numbers, notation without parenthesis\n",
        "tuplex = 4, 7, 3, 9, 2\n",
        "print(tuplex)\n",
        "#Create a tuple of one item, notation without parenthesis\n",
        "tuplex = 4,\n",
        "print(tuplex)\n",
        "#Create an empty tuple with tuple() function buit-in Python\n",
        "tuplex = tuple()\n",
        "print(tuplex)\n",
        "#Create a tuple from a iterable object\n",
        "tuplex = tuple([True, False])\n",
        "print(tuplex)"
      ],
      "execution_count": null,
      "outputs": [
        {
          "output_type": "stream",
          "text": [
            "()\n",
            "('tuple', False, 6.3, 2)\n",
            "(4, 7, 3, 9, 2)\n",
            "(4,)\n",
            "()\n",
            "(True, False)\n"
          ],
          "name": "stdout"
        }
      ]
    },
    {
      "cell_type": "markdown",
      "metadata": {
        "id": "RI9yR_OAO0QG"
      },
      "source": [
        "###Ex75 How to get an item of the tuple in Python?"
      ]
    },
    {
      "cell_type": "code",
      "metadata": {
        "colab": {
          "base_uri": "https://localhost:8080/"
        },
        "id": "LHrD0YFrO593",
        "outputId": "0fe524af-cea0-447c-b907-45c6c79cd291"
      },
      "source": [
        "#Create a Tuple\n",
        "tuplex = (\"c\", \"e\", 3, 1, 2, \"p\", \"r\", \"o\", \"g\", \"r\", \"a\", \"m\", \"m\",\"i\",\"n\", \"g\")\n",
        "print(tuplex)\n",
        "#get item (3th element) of the tuple by index\n",
        "item = tuplex[2]\n",
        "print(item)\n",
        "#get item (3th element from last) by index negative\n",
        "item1 = tuplex[-3]\n",
        "print(item1)"
      ],
      "execution_count": null,
      "outputs": [
        {
          "output_type": "stream",
          "text": [
            "('c', 'e', 3, 1, 2, 'p', 'r', 'o', 'g', 'r', 'a', 'm', 'm', 'i', 'n', 'g')\n",
            "3\n",
            "i\n"
          ],
          "name": "stdout"
        }
      ]
    },
    {
      "cell_type": "markdown",
      "metadata": {
        "id": "5z3KnykvQdyH"
      },
      "source": [
        "###Ex76 How to know if an element exists within a tuple in Python? and List to Tuple"
      ]
    },
    {
      "cell_type": "code",
      "metadata": {
        "colab": {
          "base_uri": "https://localhost:8080/"
        },
        "id": "5nEaw0hkQoh8",
        "outputId": "fd7288cf-129d-4dfb-cb3f-67c773fd41ad"
      },
      "source": [
        "#Create a Tuple\n",
        "tuplex = (\"c\", \"e\", 3, 1, 2, \"p\", \"r\", \"o\", \"g\", \"r\", \"a\", \"m\", \"m\",\"i\",\"n\", \"g\")\n",
        "print(tuplex)\n",
        "#Use in statment\n",
        "print(\"r\" in tuplex)\n",
        "print(6 in tuplex)\n",
        "\n",
        "#List to Tuple\n",
        "#Create List\n",
        "listx = [6, 12, 8, 4, 15, 3]\n",
        "print(listx)\n",
        "#Use the tuple(function buit-in Python, passing as parameter the list)\n",
        "tuplex = tuple(listx)\n",
        "print(tuplex)"
      ],
      "execution_count": null,
      "outputs": [
        {
          "output_type": "stream",
          "text": [
            "('c', 'e', 3, 1, 2, 'p', 'r', 'o', 'g', 'r', 'a', 'm', 'm', 'i', 'n', 'g')\n",
            "True\n",
            "False\n",
            "[6, 12, 8, 4, 15, 3]\n",
            "(6, 12, 8, 4, 15, 3)\n"
          ],
          "name": "stdout"
        }
      ]
    },
    {
      "cell_type": "markdown",
      "metadata": {
        "id": "XOkLnuU9R5G7"
      },
      "source": [
        "##Ex77 Unpack a tuple in several variables"
      ]
    },
    {
      "cell_type": "code",
      "metadata": {
        "colab": {
          "base_uri": "https://localhost:8080/"
        },
        "id": "etG_9gkOSKFO",
        "outputId": "355dff12-d8ca-4d4b-ceeb-db1b75c0dea8"
      },
      "source": [
        "#Unpack a tuple in several variables\n",
        "#Create a tuple\n",
        "tuplex = 4, 8, 3\n",
        "print(tuplex)\n",
        "n1, n2, n3 = tuplex\n",
        "#unpack a tuple in variables\n",
        "print(n1 + n2 + n3)"
      ],
      "execution_count": null,
      "outputs": [
        {
          "output_type": "stream",
          "text": [
            "(4, 8, 3)\n",
            "15\n"
          ],
          "name": "stdout"
        }
      ]
    },
    {
      "cell_type": "markdown",
      "metadata": {
        "id": "GU-n_2_2TJfA"
      },
      "source": [
        "###Ex78 Add item in Python tuple!"
      ]
    },
    {
      "cell_type": "code",
      "metadata": {
        "colab": {
          "base_uri": "https://localhost:8080/"
        },
        "id": "4jk_3gWMTPAJ",
        "outputId": "3834c193-e79f-4a44-e221-3003ad13f3f6"
      },
      "source": [
        "#Create a tuple\n",
        "tuplex = (4, 6, 2, 8, 3, 9)\n",
        "print(tuplex)\n",
        "#Add value\n",
        "tuplex = tuplex + (9,)\n",
        "print(tuplex)\n",
        "#Adding items in a specific index\n",
        "tuplex = tuplex[:5] + (15, 20, 25) + tuplex[:5]\n",
        "print(tuplex)\n",
        "#Converting the tuple to list\n",
        "listx = list(tuplex)\n",
        "print(listx)\n",
        "#Use differnet ways to add items in list\n",
        "listx.append(30)\n",
        "print(listx)\n",
        "tuplex = tuple(listx)\n",
        "print(tuplex)"
      ],
      "execution_count": null,
      "outputs": [
        {
          "output_type": "stream",
          "text": [
            "(4, 6, 2, 8, 3, 9)\n",
            "(4, 6, 2, 8, 3, 9, 9)\n",
            "(4, 6, 2, 8, 3, 15, 20, 25, 4, 6, 2, 8, 3)\n",
            "[4, 6, 2, 8, 3, 15, 20, 25, 4, 6, 2, 8, 3]\n",
            "[4, 6, 2, 8, 3, 15, 20, 25, 4, 6, 2, 8, 3, 30]\n",
            "(4, 6, 2, 8, 3, 15, 20, 25, 4, 6, 2, 8, 3, 30)\n"
          ],
          "name": "stdout"
        }
      ]
    },
    {
      "cell_type": "markdown",
      "metadata": {
        "id": "A0fLnpnPVVQX"
      },
      "source": [
        "###Ex79 Clone a tuple"
      ]
    },
    {
      "cell_type": "code",
      "metadata": {
        "colab": {
          "base_uri": "https://localhost:8080/"
        },
        "id": "7-wIJF62VtrP",
        "outputId": "0e8eac09-22d7-4823-88c1-0ce63224ad8e"
      },
      "source": [
        "from copy import deepcopy\n",
        "#Create a Tuple\n",
        "tuplex = (\"PYTHON\", 6, [], True)\n",
        "print(tuplex)\n",
        "#Make a copy of a tuple using deepcopy() function\n",
        "tuplex_clone = deepcopy(tuplex)\n",
        "tuplex_clone[2].append(60)\n",
        "print(tuplex_clone)\n",
        "print(tuplex)"
      ],
      "execution_count": null,
      "outputs": [
        {
          "output_type": "stream",
          "text": [
            "('PYTHON', 6, [], True)\n",
            "('PYTHON', 6, [60], True)\n",
            "('PYTHON', 6, [], True)\n"
          ],
          "name": "stdout"
        }
      ]
    },
    {
      "cell_type": "markdown",
      "metadata": {
        "id": "L3zEEWWVWh0E"
      },
      "source": [
        "###Ex80 In Python how to know the number of times an item has repeated"
      ]
    },
    {
      "cell_type": "code",
      "metadata": {
        "colab": {
          "base_uri": "https://localhost:8080/"
        },
        "id": "idyCJQVlWsEU",
        "outputId": "7ce9bc1c-5fa4-4ec9-a42a-8316f3e635da"
      },
      "source": [
        "#Create a Tuple\n",
        "tuplex = 2, 4, 5, 6, 2, 3, 4, 4, 9\n",
        "print(tuplex)\n",
        "#Return the number of items it appears in the tuple.\n",
        "count = tuplex.count(4)\n",
        "print(count)\n",
        "count = tuplex.count(9)\n",
        "print(count)\n",
        "count = tuplex.count(2)\n",
        "print(count)"
      ],
      "execution_count": null,
      "outputs": [
        {
          "output_type": "stream",
          "text": [
            "(2, 4, 5, 6, 2, 3, 4, 4, 9)\n",
            "3\n",
            "1\n",
            "2\n"
          ],
          "name": "stdout"
        }
      ]
    },
    {
      "cell_type": "markdown",
      "metadata": {
        "id": "I5-ILpKWXWdB"
      },
      "source": [
        "###Ex81 Remove an item from a tuple"
      ]
    },
    {
      "cell_type": "code",
      "metadata": {
        "colab": {
          "base_uri": "https://localhost:8080/"
        },
        "id": "ktLxBUo3XbHD",
        "outputId": "9826d8f7-7aab-499c-c5e0-1dbbd23f3f5e"
      },
      "source": [
        "#Create a Tuple\n",
        "tuplex = \"c\", \"e\", 3, 1, 2, \"H\", \"E\", \"L\", \"L\", \"O\"\n",
        "#Using merge of tuples with the + operator you can remove\n",
        "tuplex = tuplex[:2] + tuplex[3:]\n",
        "print(tuplex)\n",
        "#Coverting the tuple to list\n",
        "listx = list(tuplex)\n",
        "print(listx)\n",
        "#Remove an item of the list\n",
        "listx.remove(\"L\")\n",
        "#Converting the list to tuple\n",
        "tuplex = tuple(listx)\n",
        "print(tuplex)\n",
        "listx.remove(\"O\")\n",
        "tuplex = tuple(listx)\n",
        "print(tuplex)"
      ],
      "execution_count": null,
      "outputs": [
        {
          "output_type": "stream",
          "text": [
            "('c', 'e', 1, 2, 'H', 'E', 'L', 'L', 'O')\n",
            "['c', 'e', 1, 2, 'H', 'E', 'L', 'L', 'O']\n",
            "('c', 'e', 1, 2, 'H', 'E', 'L', 'O')\n",
            "('c', 'e', 1, 2, 'H', 'E', 'L')\n"
          ],
          "name": "stdout"
        }
      ]
    },
    {
      "cell_type": "markdown",
      "metadata": {
        "id": "no55ytFDY4cm"
      },
      "source": [
        "###Ex82 Slice a tuple"
      ]
    },
    {
      "cell_type": "code",
      "metadata": {
        "colab": {
          "base_uri": "https://localhost:8080/"
        },
        "id": "CXXO9OEGY-VZ",
        "outputId": "dfd3ba00-9b8e-4cbc-c392-8b2e2ab455ad"
      },
      "source": [
        "#Create a tuple\n",
        "tuplex = (2, 4, 3, 5, 4, 6, 7, 8, 6, 9)\n",
        "#Used tuple[start:stop] the start index is inclusive and the stop index\n",
        "_slice = tuplex[3:5]\n",
        "print(_slice)\n",
        "_slice = tuplex[:6]\n",
        "print(_slice)\n",
        "_slice = tuplex[5:]\n",
        "print(_slice)\n",
        "_slice = tuplex[:]\n",
        "print(_slice)\n",
        "_slice = tuplex[-8:-4]\n",
        "print(_slice)"
      ],
      "execution_count": null,
      "outputs": [
        {
          "output_type": "stream",
          "text": [
            "(5, 4)\n",
            "(2, 4, 3, 5, 4, 6)\n",
            "(6, 7, 8, 6, 9)\n",
            "(2, 4, 3, 5, 4, 6, 7, 8, 6, 9)\n",
            "(3, 5, 4, 6)\n"
          ],
          "name": "stdout"
        }
      ]
    },
    {
      "cell_type": "markdown",
      "metadata": {
        "id": "KaZJzCQWa8ZH"
      },
      "source": [
        "###Ex83 The size of tuple"
      ]
    },
    {
      "cell_type": "code",
      "metadata": {
        "colab": {
          "base_uri": "https://localhost:8080/"
        },
        "id": "SgaasJMCbCJq",
        "outputId": "f1496bcc-c8c8-4119-de25-c8e7de5024f2"
      },
      "source": [
        "tuplex = tuple(\"ce312programming\")\n",
        "print(tuplex)\n",
        "#Use the len() function to know the length of tuple.\n",
        "print(len(tuplex))"
      ],
      "execution_count": null,
      "outputs": [
        {
          "output_type": "stream",
          "text": [
            "('c', 'e', '3', '1', '2', 'p', 'r', 'o', 'g', 'r', 'a', 'm', 'm', 'i', 'n', 'g')\n",
            "16\n"
          ],
          "name": "stdout"
        }
      ]
    },
    {
      "cell_type": "markdown",
      "metadata": {
        "id": "9SDTBEszbdG9"
      },
      "source": [
        "###Ex84 Find the index of an item of the tuple"
      ]
    },
    {
      "cell_type": "code",
      "metadata": {
        "colab": {
          "base_uri": "https://localhost:8080/"
        },
        "id": "KWF3N4MZbkqi",
        "outputId": "915052f7-ca9a-4639-efd0-d31fbdb8729c"
      },
      "source": [
        "#Create a Tuple\n",
        "tuplex = tuple(\"index tuple\")\n",
        "print(tuplex)\n",
        "index = tuplex.index(\"p\")\n",
        "print(index)\n",
        "index = tuplex.index(\"p\", 5)\n",
        "print(index)\n",
        "index = tuplex.index(\"e\", 3, 6)\n",
        "print(index)"
      ],
      "execution_count": null,
      "outputs": [
        {
          "output_type": "stream",
          "text": [
            "('i', 'n', 'd', 'e', 'x', ' ', 't', 'u', 'p', 'l', 'e')\n",
            "8\n",
            "8\n",
            "3\n"
          ],
          "name": "stdout"
        }
      ]
    },
    {
      "cell_type": "markdown",
      "metadata": {
        "id": "J6MzP31IcfkX"
      },
      "source": [
        "###Ex85 Modify items of tuple"
      ]
    },
    {
      "cell_type": "code",
      "metadata": {
        "colab": {
          "base_uri": "https://localhost:8080/"
        },
        "id": "iMGVSIdDcjor",
        "outputId": "147cd6e3-d77c-444d-b095-0ecd1b684b6b"
      },
      "source": [
        "#Create a Tuple\n",
        "tuplex = (\"c\",\"e\",3,1,2,[],False)\n",
        "print(tuplex)\n",
        "tuplex[5].append(300)\n",
        "print(tuplex)"
      ],
      "execution_count": null,
      "outputs": [
        {
          "output_type": "stream",
          "text": [
            "('c', 'e', 3, 1, 2, [], False)\n",
            "('c', 'e', 3, 1, 2, [300], False)\n"
          ],
          "name": "stdout"
        }
      ]
    },
    {
      "cell_type": "markdown",
      "metadata": {
        "id": "mFe62i94dd_J"
      },
      "source": [
        "###Ex86 How operators + and * are used with a Python tuple?"
      ]
    },
    {
      "cell_type": "code",
      "metadata": {
        "colab": {
          "base_uri": "https://localhost:8080/"
        },
        "id": "oL4t6frUdmsB",
        "outputId": "98c92b40-7fb0-4041-e155-14386cd7de33"
      },
      "source": [
        "#Create a Tuple\n",
        "tuplex = 5,\n",
        "#The * operator --> repeat\n",
        "print(tuplex * 6)\n",
        "tuplex = (5, 10, 15)*4\n",
        "print(tuplex)\n",
        "#Create three tuplex\n",
        "tuplex1 = (3, 6, 9, 12, 15)\n",
        "tuplex2 = (\"c\", \"e\", 3, 1, 2, \"H\", \"E\", \"L\", \"L\", \"O\")\n",
        "tuplex3 = (True, False)\n",
        "#The + operator --> join\n",
        "tuplex = tuplex1 + tuplex2 + tuplex3\n",
        "print(tuplex)"
      ],
      "execution_count": null,
      "outputs": [
        {
          "output_type": "stream",
          "text": [
            "(5, 5, 5, 5, 5, 5)\n",
            "(5, 10, 15, 5, 10, 15, 5, 10, 15, 5, 10, 15)\n",
            "(3, 6, 9, 12, 15, 'c', 'e', 3, 1, 2, 'H', 'E', 'L', 'L', 'O', True, False)\n"
          ],
          "name": "stdout"
        }
      ]
    },
    {
      "cell_type": "markdown",
      "metadata": {
        "id": "tDzD_AyIeq3p"
      },
      "source": [
        "###Ex87 Slice of a tuple using step parameter"
      ]
    },
    {
      "cell_type": "code",
      "metadata": {
        "colab": {
          "base_uri": "https://localhost:8080/"
        },
        "id": "YyHuxB9Cezyz",
        "outputId": "421d42e8-316a-4085-d5c5-c4f4b9745d34"
      },
      "source": [
        "#Create a Tuple\n",
        "tuplex = tuple(\"HELLO PYTHON\")\n",
        "print(tuplex)\n",
        "#Slice --> tuple[start:stop:step]\n",
        "_slice = tuplex[2:9:2]\n",
        "print(_slice)\n",
        "_slice = tuplex[::4]\n",
        "print(_slice)\n",
        "_slice = tuplex[9:2:-4]\n",
        "print(_slice)\n",
        "_slice = tuplex[9:2:-3]\n",
        "print(_slice)"
      ],
      "execution_count": null,
      "outputs": [
        {
          "output_type": "stream",
          "text": [
            "('H', 'E', 'L', 'L', 'O', ' ', 'P', 'Y', 'T', 'H', 'O', 'N')\n",
            "('L', 'O', 'P', 'T')\n",
            "('H', 'O', 'T')\n",
            "('H', ' ')\n",
            "('H', 'P', 'L')\n"
          ],
          "name": "stdout"
        }
      ]
    },
    {
      "cell_type": "markdown",
      "metadata": {
        "id": "wP6pf3jkf2YX"
      },
      "source": [
        "##Python Sets"
      ]
    },
    {
      "cell_type": "markdown",
      "metadata": {
        "id": "znF2_RkNf6H1"
      },
      "source": [
        "###Ex88 Create a set in Python"
      ]
    },
    {
      "cell_type": "code",
      "metadata": {
        "colab": {
          "base_uri": "https://localhost:8080/"
        },
        "id": "L0Pe9CP_f925",
        "outputId": "ac9abfb8-a682-4325-f5a9-3c2946b177bd"
      },
      "source": [
        "#A new empty set\n",
        "setx = set()\n",
        "print(setx)\n",
        "#A non empty set\n",
        "n = set([0, 1, 2, 3, 4, 5])\n",
        "print(n)"
      ],
      "execution_count": null,
      "outputs": [
        {
          "output_type": "stream",
          "text": [
            "set()\n",
            "{0, 1, 2, 3, 4, 5}\n"
          ],
          "name": "stdout"
        }
      ]
    },
    {
      "cell_type": "markdown",
      "metadata": {
        "id": "jg5OSd9LgRc-"
      },
      "source": [
        "###Ex89 Iteration Over Sets"
      ]
    },
    {
      "cell_type": "code",
      "metadata": {
        "colab": {
          "base_uri": "https://localhost:8080/"
        },
        "id": "fqhnrRXkgV8M",
        "outputId": "a977dae7-9f00-4bda-878c-1868d925c1bd"
      },
      "source": [
        "num_set = set([0, 1, 2, 3, 4, 5])\n",
        "for n in num_set:\n",
        "  print(n)"
      ],
      "execution_count": null,
      "outputs": [
        {
          "output_type": "stream",
          "text": [
            "0\n",
            "1\n",
            "2\n",
            "3\n",
            "4\n",
            "5\n"
          ],
          "name": "stdout"
        }
      ]
    },
    {
      "cell_type": "markdown",
      "metadata": {
        "id": "ZPjBTrCdgh2Z"
      },
      "source": [
        "###Ex90 Add member(s) in Python set"
      ]
    },
    {
      "cell_type": "code",
      "metadata": {
        "colab": {
          "base_uri": "https://localhost:8080/"
        },
        "id": "l_dyJxRugm-f",
        "outputId": "e240b6fd-aae2-4688-8a9e-d89f86900a6e"
      },
      "source": [
        "#A new empty set\n",
        "color_set = set()\n",
        "#Add a single member\n",
        "color_set.add(\"Red\")\n",
        "print(color_set)\n",
        "#Add multiple items\n",
        "color_set.update([\"Blue\", \"Green\", \"White\", \"Yellow\", \"Pink\", \"Black\"])\n",
        "print(color_set)"
      ],
      "execution_count": null,
      "outputs": [
        {
          "output_type": "stream",
          "text": [
            "{'Red'}\n",
            "{'Green', 'Red', 'Black', 'Blue', 'Pink', 'Yellow', 'White'}\n"
          ],
          "name": "stdout"
        }
      ]
    },
    {
      "cell_type": "markdown",
      "metadata": {
        "id": "5CSO_lY-hpoy"
      },
      "source": [
        "###Ex91 Remove item(s) from Python set"
      ]
    },
    {
      "cell_type": "code",
      "metadata": {
        "colab": {
          "base_uri": "https://localhost:8080/"
        },
        "id": "FMX5pi1NhwMZ",
        "outputId": "67100858-c2df-4b32-f8dc-3be03d9400f0"
      },
      "source": [
        "num_set = set([0, 1, 2, 3, 4, 5])\n",
        "num_set.pop()\n",
        "print(num_set)\n",
        "num_set.pop()\n",
        "print(num_set)\n",
        "num_set.remove(4)\n",
        "print(num_set)\n",
        "num_set.discard(5)\n",
        "print(num_set)"
      ],
      "execution_count": null,
      "outputs": [
        {
          "output_type": "stream",
          "text": [
            "{1, 2, 3, 4, 5}\n",
            "{2, 3, 4, 5}\n",
            "{2, 3, 5}\n",
            "{2, 3}\n"
          ],
          "name": "stdout"
        }
      ]
    },
    {
      "cell_type": "markdown",
      "metadata": {
        "id": "4ya3Mn8NiaX4"
      },
      "source": [
        "###Ex92 Intersection, Union of sets and Set, Symmetric Difference"
      ]
    },
    {
      "cell_type": "code",
      "metadata": {
        "colab": {
          "base_uri": "https://localhost:8080/"
        },
        "id": "0gndZK_Ai57k",
        "outputId": "76873507-1420-4d67-c41a-c462cc0ecffd"
      },
      "source": [
        "#Intersection of Sets\n",
        "setx = set([\"GREEN\", \"BLUE\"])\n",
        "sety = set([\"BLUE\", \"YELLOW\"])\n",
        "setz = setx & sety\n",
        "print(setz)\n",
        "#Union of Sets\n",
        "seta = setx | sety\n",
        "print(seta)\n",
        "#Set Difference\n",
        "setb = setx - setz\n",
        "print(setb)\n",
        "#Symmetric Difference\n",
        "setc = setx ^ sety\n",
        "print(setc)\n",
        "#Issubset and Isscuperset\n",
        "issubset = setx <= sety\n",
        "print(issubset)\n",
        "issuperset = setx >= sety\n",
        "print(issuperset)\n",
        "#Shallow copy of sets\n",
        "setd = setx.copy()\n",
        "print(setd)\n",
        "#Clear sets\n",
        "sete = setx.copy()\n",
        "print(sete)\n",
        "sete.clear()\n",
        "print(sete)"
      ],
      "execution_count": null,
      "outputs": [
        {
          "output_type": "stream",
          "text": [
            "{'BLUE'}\n",
            "{'GREEN', 'YELLOW', 'BLUE'}\n",
            "{'GREEN'}\n",
            "{'GREEN', 'YELLOW'}\n",
            "False\n",
            "False\n",
            "{'GREEN', 'BLUE'}\n",
            "{'GREEN', 'BLUE'}\n",
            "set()\n"
          ],
          "name": "stdout"
        }
      ]
    },
    {
      "cell_type": "markdown",
      "metadata": {
        "id": "GwFUrbkQlC-r"
      },
      "source": [
        "##Python user defined functions"
      ]
    },
    {
      "cell_type": "markdown",
      "metadata": {
        "id": "a34VaOpWlHld"
      },
      "source": [
        "###Ex93 Call a function"
      ]
    },
    {
      "cell_type": "code",
      "metadata": {
        "colab": {
          "base_uri": "https://localhost:8080/"
        },
        "id": "BgA19vnzlKGg",
        "outputId": "f135b3e2-5294-42fd-e1ba-517158cfedab"
      },
      "source": [
        "#Call a Function\n",
        "def avg_number(x, y):\n",
        "  print(\"Average of \",x,\" and \",y, \" is \", (x+y)/2)\n",
        "avg_number(3,4)\n",
        "\n",
        "#Function without Arguments\n",
        "def printX():\n",
        "  print(\"This is Python Programming\")\n",
        "  print(\"This is Python Programming\")\n",
        "  print(\"This is Python Programming\")\n",
        "print(\"Function without Arguments\") \n",
        "printX()\n",
        "\n",
        "#The Return Statement Function\n",
        "def nsquare(x, y = 2):\n",
        "  return (x*x + 2*x*x + y*y)\n",
        "print(\"The Reurn Statement Function\\n\")\n",
        "print(\"The square of the sum of 2 and 2 is : \", nsquare(2))\n",
        "print(\"The square of the sum of 2 and 4 is : \", nsquare(2,4))\n",
        "\n",
        "#Arbitrary Argument Lists\n",
        "def sum(*numbers):\n",
        "  s = 0\n",
        "  for n in numbers:\n",
        "    s += n\n",
        "  return s\n",
        "print(\"Arbitrary Argument Lists\\n\")\n",
        "print(sum(1,2,3,4))   \n",
        "\n",
        "#Lambda Forms\n",
        "def average(x, y):\n",
        "  return (x + y)/2\n",
        "print(\"Lambda Forms\\n\")\n",
        "print(average(4, 3))\n",
        "print((lambda x, y: (x + y/2)(4, 3)))  "
      ],
      "execution_count": null,
      "outputs": [
        {
          "output_type": "stream",
          "text": [
            "Average of  3  and  4  is  3.5\n",
            "Function without Arguments\n",
            "This is Python Programming\n",
            "This is Python Programming\n",
            "This is Python Programming\n",
            "The Reurn Statement Function\n",
            "\n",
            "The square of the sum of 2 and 2 is :  16\n",
            "The square of the sum of 2 and 4 is :  28\n",
            "Arbitrary Argument Lists\n",
            "\n",
            "10\n",
            "Lambda Forms\n",
            "\n",
            "3.5\n",
            "<function <lambda> at 0x7fba07717170>\n"
          ],
          "name": "stdout"
        }
      ]
    }
  ]
}